{
 "cells": [
  {
   "cell_type": "code",
   "execution_count": 9,
   "metadata": {},
   "outputs": [],
   "source": [
    "from langchain.vectorstores import chroma\n",
    "from langchain.embeddings import OpenAIEmbeddings\n",
    "from langchain.text_splitter import RecursiveCharacterTextSplitter\n",
    "from langchain.llms import openai\n",
    "from langchain.chains import RetrievalQA\n",
    "from langchain.document_loaders import TextLoader\n",
    "from langchain.document_loaders import DirectoryLoader\n",
    "import os\n",
    "import streamlit as st\n",
    "from langchain.embeddings.openai import OpenAIEmbeddings\n",
    "from pdfminer.high_level import extract_pages\n",
    "from pdfminer.high_level import extract_text\n",
    "import pytesseract\n",
    "from langchain.document_loaders import PyPDFLoader\n",
    "from langchain.document_loaders import Docx2txtLoader\n",
    "from langchain.document_loaders import TextLoader\n",
    "from langchain.document_loaders import UnstructuredPowerPointLoader\n",
    "from langchain.document_loaders.image import UnstructuredImageLoader"
   ]
  },
  {
   "cell_type": "code",
   "execution_count": 33,
   "metadata": {},
   "outputs": [],
   "source": [
    "# Load and process the text files\n",
    "# loader = TextLoader('single_text_file.txt')\n",
    "loader = DirectoryLoader('C:/Users/antonio.gutierrez/Documents/Layla_Sphere/database', glob=\"./*.pptx\", loader_cls=UnstructuredPowerPointLoader)\n",
    "\n",
    "documents = loader.load()"
   ]
  },
  {
   "cell_type": "code",
   "execution_count": 34,
   "metadata": {},
   "outputs": [],
   "source": [
    "#splitting the text into\n",
    "text_splitter = RecursiveCharacterTextSplitter(chunk_size=1000, chunk_overlap=200)\n",
    "texts = text_splitter.split_documents(documents)"
   ]
  },
  {
   "cell_type": "code",
   "execution_count": 35,
   "metadata": {},
   "outputs": [
    {
     "data": {
      "text/plain": [
       "32"
      ]
     },
     "execution_count": 35,
     "metadata": {},
     "output_type": "execute_result"
    }
   ],
   "source": [
    "len(texts)"
   ]
  },
  {
   "cell_type": "code",
   "execution_count": 41,
   "metadata": {},
   "outputs": [
    {
     "name": "stdout",
     "output_type": "stream",
     "text": [
      "Política SGSI\n",
      "\n",
      " Indicadores SGSI\n",
      "\n",
      "Incidentes de seguridad\n",
      "\n",
      "Programa Anual de auditoria\n",
      "\n",
      "Plan de auditoria\n",
      "\n",
      "Auditoria Interna\n",
      "\n",
      "Revisión por dirección \n",
      "\n",
      "\n",
      "\n",
      "SISTEMA DE GESTIÓN NORMATIVO - TABANTAJ\n",
      "\n",
      "SEGURIDAD\n",
      "\n",
      "ADAPTABILIDAD\n",
      "\n",
      "ESCALABILIDAD\n",
      "\n",
      "TRAZABILIDAD\n",
      "\n",
      "INTEGRABILIDAD\n",
      "\n",
      "RENTABILIDAD\n",
      "\n",
      "COOPERATIVIDAD\n",
      "\n",
      "BENEFICIOS\n",
      "\n",
      "\n",
      "\n",
      "SISTEMA DE GESTIÓN NORMATIVO - TABANTAJ\n",
      "\n",
      "En conclusión…\n",
      "\n",
      "La TRANSFORMACIÓN DIGITAL avanza cada vez mas rápido, es por esto que en Silent4Business proporcionamos a las organizaciones herramientas que beneficien y modernicen los procesos en base a las mejores practicas usadas internacionalmente.\n",
      "\n",
      "\n",
      "\n",
      "silent4business.com\n"
     ]
    }
   ],
   "source": [
    "print(texts[31].page_content)"
   ]
  }
 ],
 "metadata": {
  "kernelspec": {
   "display_name": "Python 3",
   "language": "python",
   "name": "python3"
  },
  "language_info": {
   "codemirror_mode": {
    "name": "ipython",
    "version": 3
   },
   "file_extension": ".py",
   "mimetype": "text/x-python",
   "name": "python",
   "nbconvert_exporter": "python",
   "pygments_lexer": "ipython3",
   "version": "3.11.3"
  },
  "orig_nbformat": 4
 },
 "nbformat": 4,
 "nbformat_minor": 2
}
