{
 "cells": [
  {
   "cell_type": "code",
   "execution_count": 1,
   "id": "2e5391a8-4127-4aa1-be9f-e4cfbf4930a1",
   "metadata": {},
   "outputs": [],
   "source": [
    "import os\n",
    "from dotenv import load_dotenv, find_dotenv\n",
    "load_dotenv(find_dotenv(), override=True)\n",
    "from langchain.document_loaders import PyPDFLoader\n",
    "import tiktoken"
   ]
  },
  {
   "cell_type": "code",
   "execution_count": 2,
   "id": "852ffd6c-cd93-4073-8d77-88ae41d772d9",
   "metadata": {},
   "outputs": [],
   "source": [
    "#pip install PyPDF"
   ]
  },
  {
   "cell_type": "code",
   "execution_count": 3,
   "id": "cecca9a5-548b-464e-84d3-e4d0985f87e3",
   "metadata": {},
   "outputs": [],
   "source": [
    "#pip install docx2txt -q"
   ]
  },
  {
   "cell_type": "code",
   "execution_count": 4,
   "id": "3262a472-2e22-415c-b942-96ed302ea726",
   "metadata": {},
   "outputs": [],
   "source": [
    "#pip install wikipedia -q"
   ]
  },
  {
   "cell_type": "markdown",
   "id": "84492b67",
   "metadata": {},
   "source": [
    "### CARGAR DOCUMENTOS"
   ]
  },
  {
   "cell_type": "code",
   "execution_count": 5,
   "id": "0df8c502-8353-4c6e-9d70-a522a2d1064a",
   "metadata": {},
   "outputs": [],
   "source": [
    "def load_document(file):\n",
    "    import os\n",
    "    name,extension = os.path.splitext(file)\n",
    "    \n",
    "    if extension == '.pdf':\n",
    "        from langchain.document_loaders import PyPDFLoader\n",
    "        print(f'Loading{file}')\n",
    "        loader = PyPDFLoader(file)\n",
    "    elif extension == '.docx':\n",
    "        from langchain.document_loaders import Docx2txtLoader\n",
    "        print(f'Loading {file}')\n",
    "        loader = Docx2txtLoader(file)\n",
    "    else:\n",
    "        print(\"Documento no soportado\")\n",
    "        return None\n",
    "    \n",
    "    data = loader.load()\n",
    "    return data\n",
    "\n",
    "#Wikipedia\n",
    "def load_from_wikipedia(query, lang = \"en\", load_max_docs = 2):\n",
    "    from langchain.document_loaders import WikipediaLoader\n",
    "    loader = WikipediaLoader(query=query, lang=lang,load_max_docs=load_max_docs)\n",
    "    data = loader.load()\n",
    "    return data"
   ]
  },
  {
   "cell_type": "code",
   "execution_count": 8,
   "id": "afe341f3-79d5-4348-8d59-201989d49439",
   "metadata": {},
   "outputs": [],
   "source": [
    "def chunk_data(data,chunk_size =256):\n",
    "    from langchain.text_splitter import RecursiveCharacterTextSplitter\n",
    "    text_splitter = RecursiveCharacterTextSplitter(chunk_size=chunk_size, chunk_overlap=0)\n",
    "    chunks = text_splitter.split_documents(data)\n",
    "    return chunks"
   ]
  },
  {
   "cell_type": "markdown",
   "id": "dc1bd54f-a044-4526-8d4a-165ea2cce493",
   "metadata": {},
   "source": [
    "### CALCULAR EL COSTO DEL EMBEDDING"
   ]
  },
  {
   "cell_type": "code",
   "execution_count": 7,
   "id": "f78ce379-9403-47e9-80bf-43d624480309",
   "metadata": {},
   "outputs": [],
   "source": [
    "def print_embedding_cost(texts):\n",
    "    import tiktoken\n",
    "    enc = tiktoken.encoding_for_model('text-embedding-ada-002')\n",
    "    total_tokens = sum([len(enc.encode(page.page_content)) for page in texts])\n",
    "    print(f'Total Tokens: {total_tokens}')\n",
    "    print(f'Embedding Cost in USD: {total_tokens / 1000 * 0.0004:.6f}')"
   ]
  },
  {
   "cell_type": "markdown",
   "id": "828da05f-2b48-45d4-8d3f-150773b268f7",
   "metadata": {},
   "source": [
    "### EMBEDDING AND UPLOADING TO A VECTOR DATABASE (PINECONE)"
   ]
  },
  {
   "cell_type": "code",
   "execution_count": 9,
   "id": "79ac4244-f816-4db8-9ec7-501ee56581a6",
   "metadata": {},
   "outputs": [],
   "source": [
    "def insert_or_fetch_embeddings(index_name):\n",
    "    import pinecone\n",
    "    from langchain.vectorstores import Pinecone\n",
    "    from langchain.embeddings.openai import OpenAIEmbeddings\n",
    "    \n",
    "    embeddings = OpenAIEmbeddings()\n",
    "    \n",
    "    pinecone.init(api_key = os.environ.get('PINECONE_API_KEY'), environment = os.environ.get('PINECONE_ENV'))\n",
    "    \n",
    "    if index_name in pinecone.list_indexes():\n",
    "                 print(f'Index {index_name} already exists. Loading embeddings ..', end = '')\n",
    "                 vector_store = Pinecone.from_existing_index(index_name,embeddings)\n",
    "                 print('Ok')\n",
    "    else:\n",
    "                 print(f'Creating index {index_name} and embeddings ...', end = '')\n",
    "                 pinecone.create_index(index_name, dimension = 1536, metric = 'cosine')\n",
    "                 vector_store = Pinecone.from_documents(chunks,embeddings, index_name = index_name)\n",
    "                 print('Ok')\n",
    "                 \n",
    "    return vector_store"
   ]
  },
  {
   "cell_type": "code",
   "execution_count": 10,
   "id": "313a49ad-ff60-45de-84b8-8ba337ad74a3",
   "metadata": {},
   "outputs": [],
   "source": [
    "def delete_pinecone_index(index_name = 'all'):\n",
    "    import pinecone\n",
    "    pinecone.init(api_key = os.environ.get('PINECONE_API_KEY'), environment = os.environ.get('PINECONE_ENV'))\n",
    "    if index_name == 'all':\n",
    "                 indexes = pinecone.list_indexes()\n",
    "                 print('Deleting all indexes ...')\n",
    "                 for index in indexes:\n",
    "                     pinecone.delete_index(index)\n",
    "                 print('Ok')\n",
    "    else:\n",
    "                 print(f'Deleting index{index_name} ...', end = '')\n",
    "                 pinecone.delete_index(index_name)\n",
    "                 print('Ok')\n",
    "    "
   ]
  },
  {
   "cell_type": "markdown",
   "id": "7e4793fd-9072-4780-9081-b9d103d5bd9c",
   "metadata": {},
   "source": [
    "### Asking and Getting Answers"
   ]
  },
  {
   "cell_type": "code",
   "execution_count": 11,
   "id": "9ed4be0b-a97b-4b9d-a570-a0b6be894263",
   "metadata": {},
   "outputs": [],
   "source": [
    "def ask_and_get_answer(vector_store, q):\n",
    "    from langchain.chains import RetrievalQA\n",
    "    from langchain.chat_models import ChatOpenAI\n",
    "    \n",
    "    llm = ChatOpenAI(model = 'gpt-3.5-turbo', temperature = 1)\n",
    "    \n",
    "    retriever = vector_store.as_retriever(search_type = 'similarity', search_kwargs = {'k': 3})\n",
    "    \n",
    "    chain = RetrievalQA.from_chain_type(llm = llm, chain_type = 'stuff', retriever = retriever)\n",
    "    \n",
    "    answer = chain.run(q)\n",
    "    return answer\n",
    "\n",
    "def ask_with_memory(vector_store, question, chat_history = []):\n",
    "    from langchain.chains import ConversationalRetrievalChain\n",
    "    from langchain.chat_models import ChatOpenAI\n",
    "    \n",
    "    llm = ChatOpenAI(temperature = 1)\n",
    "    retriever = vector_store.as_retriever(search_type = 'similarity', search_kwargs = {'k': 3})\n",
    "                                          \n",
    "                                          \n",
    "    crc = ConversationalRetrievalChain.from_llm(llm, retriever)\n",
    "    result = crc({'question':question, 'chat_history': chat_history})\n",
    "    chat_history.append((question, result['answer']))\n",
    "    \n",
    "    return result, chat_history\n",
    "                                "
   ]
  },
  {
   "cell_type": "markdown",
   "id": "c57ecdfd-8a9d-467d-b68e-5e0a0d0c6a73",
   "metadata": {},
   "source": [
    "### Running Code"
   ]
  },
  {
   "cell_type": "code",
   "execution_count": 15,
   "id": "6908459b-cf1b-4f9f-a023-b3eb5924e10f",
   "metadata": {},
   "outputs": [
    {
     "name": "stdout",
     "output_type": "stream",
     "text": [
      "Loading/Users/antonio.gutierrez/Documents/LLM_UDEMY/knowledge/M-SGI-002 Manual de Políticas del SGI_V10.pdf\n",
      "You have 54 pages in your data\n",
      "There are 54 characters in the page\n"
     ]
    }
   ],
   "source": [
    "data = load_document('/Users/antonio.gutierrez/Documents/LLM_UDEMY/knowledge/M-SGI-002 Manual de Políticas del SGI_V10.pdf')\n",
    "#print(data[10].page_content)\n",
    "#print(data[10].metadata)\n",
    "print(f'You have {len(data)} pages in your data')\n",
    "print(f'There are {len(data)} characters in the page')"
   ]
  },
  {
   "cell_type": "code",
   "execution_count": 16,
   "id": "1ba12ff5-8b83-4ddf-96e1-338ce57ef974",
   "metadata": {},
   "outputs": [],
   "source": [
    "#data = load_document('/Users/anton/Documents/LLM_UDEMY/knowledge/la_divina_comedia.docx')\n",
    "#print(data[0].page_content)"
   ]
  },
  {
   "cell_type": "code",
   "execution_count": 17,
   "id": "d6ff013e-a43d-428d-80cf-da8a7aafeea1",
   "metadata": {
    "tags": []
   },
   "outputs": [],
   "source": [
    "#data = load_from_wikipedia('GPT-4')\n",
    "#print(data[0].page_content)"
   ]
  },
  {
   "cell_type": "code",
   "execution_count": 18,
   "id": "7cd885db-390c-4782-a73e-2673f39c37d4",
   "metadata": {
    "tags": []
   },
   "outputs": [
    {
     "name": "stdout",
     "output_type": "stream",
     "text": [
      "571\n",
      "Teletrabajo (Políticas Home Office).  ................................ ................................ ................................ .................  11\n"
     ]
    }
   ],
   "source": [
    "chunks = chunk_data(data)\n",
    "print(len(chunks))\n",
    "print(chunks[20].page_content)"
   ]
  },
  {
   "cell_type": "code",
   "execution_count": 19,
   "id": "90541dc1-a546-4115-9600-1fcdd8f427fe",
   "metadata": {
    "tags": []
   },
   "outputs": [],
   "source": [
    "#print_embedding_cost(chunks)"
   ]
  },
  {
   "cell_type": "code",
   "execution_count": 20,
   "id": "0f2c34d0-7d7f-4c49-9a73-6927ec78ad1c",
   "metadata": {},
   "outputs": [],
   "source": [
    "#delete_pinecone_index()"
   ]
  },
  {
   "cell_type": "code",
   "execution_count": 18,
   "id": "d5d71454-6935-4ec0-9d68-fcfe1f2d6b19",
   "metadata": {
    "tags": []
   },
   "outputs": [
    {
     "name": "stderr",
     "output_type": "stream",
     "text": [
      "C:\\Users\\anton\\anaconda3\\lib\\site-packages\\pinecone\\index.py:4: TqdmExperimentalWarning: Using `tqdm.autonotebook.tqdm` in notebook mode. Use `tqdm.tqdm` instead to force console mode (e.g. in jupyter console)\n",
      "  from tqdm.autonotebook import tqdm\n"
     ]
    },
    {
     "name": "stdout",
     "output_type": "stream",
     "text": [
      "Index askadocument already exists. Loading embeddings ..Ok\n"
     ]
    }
   ],
   "source": [
    "index_name = 'askadocument'\n",
    "vector_store = insert_or_fetch_embeddings(index_name)"
   ]
  },
  {
   "cell_type": "code",
   "execution_count": 19,
   "id": "7b1e912b-f036-40ca-b942-66a4abee5096",
   "metadata": {
    "tags": []
   },
   "outputs": [
    {
     "name": "stdout",
     "output_type": "stream",
     "text": [
      "El documento parece estar relacionado con la gestión de la seguridad de la información. Mencionan controles de acceso, retención de la información, documentación de procedimientos operacionales, gestión de cambios y gestión de la capacidad. También mencionan la recopilación inmediata de información impresa y el mantenimiento de escritorios libres de acceso directo a documentos. Sin embargo, sin más información, es difícil determinar el tema específico del documento.\n"
     ]
    }
   ],
   "source": [
    "q = \"de que trata el documento\"\n",
    "answer = ask_and_get_answer(vector_store, q)\n",
    "print(answer)"
   ]
  },
  {
   "cell_type": "code",
   "execution_count": null,
   "id": "eca9c7c2-d0b2-46a2-bdca-a1aa0bb2e29e",
   "metadata": {},
   "outputs": [],
   "source": [
    "import time\n",
    "i = 1\n",
    "print('Escribe salir o gracias para Salir.')\n",
    "while True:\n",
    "    q = input(f'Pregunta#{1}: ')\n",
    "    i = i+1\n",
    "    if q.lower() in ['salir', 'gracias']:\n",
    "        print('Ok ... ¡Nos vemos!')\n",
    "        time.sleep(2)\n",
    "        break\n",
    "        \n",
    "    answer = ask_and_get_answer(vector_store, q)\n",
    "    print(f' \\Respuesta: {answer}')\n",
    "    print(f' \\n {\"-\" * 50} \\n')"
   ]
  },
  {
   "cell_type": "code",
   "execution_count": 21,
   "id": "969fa9ef-4594-4fe1-b352-bfcbf2443f18",
   "metadata": {},
   "outputs": [
    {
     "name": "stdout",
     "output_type": "stream",
     "text": [
      "El documento menciona dos temas: almacenamiento físico de documentos en papel y control de versiones.\n",
      "[('Cuantos temas toca el documento?', 'El documento menciona dos temas: almacenamiento físico de documentos en papel y control de versiones.')]\n"
     ]
    }
   ],
   "source": [
    "#asking with memomory\n",
    "chat_history = []\n",
    "question = 'Cuantos temas toca el documento?'\n",
    "result, chat_history = ask_with_memory(vector_store, question, chat_history)\n",
    "print (result['answer'])\n",
    "print(chat_history)"
   ]
  },
  {
   "cell_type": "code",
   "execution_count": 23,
   "id": "06f184b8-1c08-4b4e-a667-7c9bb9b95c14",
   "metadata": {},
   "outputs": [
    {
     "name": "stdout",
     "output_type": "stream",
     "text": [
      "El documento no menciona explícitamente otros temas relacionados con la organización interna en términos de concientización, educación y capacitación en seguridad de la información.\n",
      "[('Cuantos temas toca el documento?', 'El documento menciona dos temas: almacenamiento físico de documentos en papel y control de versiones.'), ('Entonces solo toca dos temas el documento? ¿no toca otros temas?', 'El documento no menciona explícitamente otros temas relacionados con la organización interna en términos de concientización, educación y capacitación en seguridad de la información.')]\n"
     ]
    }
   ],
   "source": [
    "question = 'Entonces solo toca dos temas el documento? ¿no toca otros temas?'\n",
    "result, chat_history = ask_with_memory(vector_store, question, chat_history)\n",
    "print(result['answer'])\n",
    "print(chat_history)"
   ]
  },
  {
   "cell_type": "code",
   "execution_count": 24,
   "id": "eef79e42-bf10-4b88-ad56-0ae8e46153d5",
   "metadata": {},
   "outputs": [
    {
     "name": "stdout",
     "output_type": "stream",
     "text": [
      "El documento toca un total de 36 temas si los multiplicamos por 2.\n",
      "[('Cuantos temas toca el documento?', 'El documento menciona dos temas: almacenamiento físico de documentos en papel y control de versiones.'), ('Entonces solo toca dos temas el documento? ¿no toca otros temas?', 'El documento no menciona explícitamente otros temas relacionados con la organización interna en términos de concientización, educación y capacitación en seguridad de la información.'), ('multiplica los temas que toca por 2', 'El documento toca un total de 36 temas si los multiplicamos por 2.')]\n"
     ]
    }
   ],
   "source": [
    "question = 'multiplica los temas que toca por 2'\n",
    "result, chat_history = ask_with_memory(vector_store, question, chat_history)\n",
    "print(result['answer'])\n",
    "print(chat_history)"
   ]
  },
  {
   "cell_type": "code",
   "execution_count": 26,
   "id": "68ff75ea-54e9-43da-b49b-42c8748d50a2",
   "metadata": {},
   "outputs": [
    {
     "name": "stdout",
     "output_type": "stream",
     "text": [
      "El documento parece abordar dos temas principales: el espacio físico adecuado para almacenar documentos en papel y los controles de seguridad de la norma ISO 27001:2013.\n",
      "[('Cuantos temas toca el documento?', 'El documento menciona dos temas: almacenamiento físico de documentos en papel y control de versiones.'), ('Entonces solo toca dos temas el documento? ¿no toca otros temas?', 'El documento no menciona explícitamente otros temas relacionados con la organización interna en términos de concientización, educación y capacitación en seguridad de la información.'), ('multiplica los temas que toca por 2', 'El documento toca un total de 36 temas si los multiplicamos por 2.'), ('¿Entonces cuantos temas toca el documento?', 'El documento parece abordar dos temas principales: el espacio físico adecuado para almacenar documentos en papel y los controles de seguridad de la norma ISO 27001:2013.')]\n"
     ]
    }
   ],
   "source": [
    "question = '¿Entonces cuantos temas toca el documento?'\n",
    "result, chat_history = ask_with_memory(vector_store, question, chat_history)\n",
    "print(result['answer'])\n",
    "print(chat_history)"
   ]
  },
  {
   "cell_type": "code",
   "execution_count": 27,
   "id": "16c0572d-b91d-4289-8c6a-2914c34e3516",
   "metadata": {},
   "outputs": [
    {
     "name": "stdout",
     "output_type": "stream",
     "text": [
      "Los temas secundarios son:\n",
      "\n",
      "1. Antecedentes no penales.\n",
      "2. Estudio socioeconómico.\n",
      "3. Estado de cuenta.\n",
      "4. Número de seguro social.\n",
      "[('Cuantos temas toca el documento?', 'El documento menciona dos temas: almacenamiento físico de documentos en papel y control de versiones.'), ('Entonces solo toca dos temas el documento? ¿no toca otros temas?', 'El documento no menciona explícitamente otros temas relacionados con la organización interna en términos de concientización, educación y capacitación en seguridad de la información.'), ('multiplica los temas que toca por 2', 'El documento toca un total de 36 temas si los multiplicamos por 2.'), ('¿Entonces cuantos temas toca el documento?', 'El documento parece abordar dos temas principales: el espacio físico adecuado para almacenar documentos en papel y los controles de seguridad de la norma ISO 27001:2013.'), ('¿y cuales son los temas secundarios?', 'Los temas secundarios son:\\n\\n1. Antecedentes no penales.\\n2. Estudio socioeconómico.\\n3. Estado de cuenta.\\n4. Número de seguro social.')]\n"
     ]
    }
   ],
   "source": [
    "question = '¿y cuales son los temas secundarios?'\n",
    "result, chat_history = ask_with_memory(vector_store, question, chat_history)\n",
    "print(result['answer'])\n",
    "print(chat_history)"
   ]
  },
  {
   "cell_type": "code",
   "execution_count": 28,
   "id": "c38fa6f7-c41d-4039-a505-311901c9c15c",
   "metadata": {},
   "outputs": [
    {
     "name": "stdout",
     "output_type": "stream",
     "text": [
      "Los temas secundarios son mencionados en el contexto como actividades o categorías de sitios a los que se debe tener acceso para llevar a cabo ciertas tareas en relación con la gestión de incidentes. Estos temas no son el enfoque principal del texto, pero se mencionan como parte de la labor que se debe realizar durante una investigación más profunda.\n",
      "[('Cuantos temas toca el documento?', 'El documento menciona dos temas: almacenamiento físico de documentos en papel y control de versiones.'), ('Entonces solo toca dos temas el documento? ¿no toca otros temas?', 'El documento no menciona explícitamente otros temas relacionados con la organización interna en términos de concientización, educación y capacitación en seguridad de la información.'), ('multiplica los temas que toca por 2', 'El documento toca un total de 36 temas si los multiplicamos por 2.'), ('¿Entonces cuantos temas toca el documento?', 'El documento parece abordar dos temas principales: el espacio físico adecuado para almacenar documentos en papel y los controles de seguridad de la norma ISO 27001:2013.'), ('¿y cuales son los temas secundarios?', 'Los temas secundarios son:\\n\\n1. Antecedentes no penales.\\n2. Estudio socioeconómico.\\n3. Estado de cuenta.\\n4. Número de seguro social.'), ('¿porqué dices que esos son los temas secundarios?', 'Los temas secundarios son mencionados en el contexto como actividades o categorías de sitios a los que se debe tener acceso para llevar a cabo ciertas tareas en relación con la gestión de incidentes. Estos temas no son el enfoque principal del texto, pero se mencionan como parte de la labor que se debe realizar durante una investigación más profunda.')]\n"
     ]
    }
   ],
   "source": [
    "question = '¿porqué dices que esos son los temas secundarios?'\n",
    "result, chat_history = ask_with_memory(vector_store, question, chat_history)\n",
    "print(result['answer'])\n",
    "print(chat_history)"
   ]
  },
  {
   "cell_type": "code",
   "execution_count": 29,
   "id": "09f748db-4769-4830-a6bf-6cd7c0c96754",
   "metadata": {},
   "outputs": [
    {
     "name": "stdout",
     "output_type": "stream",
     "text": [
      "Según el documento, la gestión de incidentes se refiere al proceso formal de reportar, responder y escalar los incidentes de seguridad de la información. Esto implica tener responsabilidades y procedimientos establecidos para manejar los incidentes, notificar los eventos de seguridad de la información y llevar a cabo sesiones de lecciones aprendidas con el personal involucrado en el manejo de incidentes.\n",
      "[('Cuantos temas toca el documento?', 'El documento menciona dos temas: almacenamiento físico de documentos en papel y control de versiones.'), ('Entonces solo toca dos temas el documento? ¿no toca otros temas?', 'El documento no menciona explícitamente otros temas relacionados con la organización interna en términos de concientización, educación y capacitación en seguridad de la información.'), ('multiplica los temas que toca por 2', 'El documento toca un total de 36 temas si los multiplicamos por 2.'), ('¿Entonces cuantos temas toca el documento?', 'El documento parece abordar dos temas principales: el espacio físico adecuado para almacenar documentos en papel y los controles de seguridad de la norma ISO 27001:2013.'), ('¿y cuales son los temas secundarios?', 'Los temas secundarios son:\\n\\n1. Antecedentes no penales.\\n2. Estudio socioeconómico.\\n3. Estado de cuenta.\\n4. Número de seguro social.'), ('¿porqué dices que esos son los temas secundarios?', 'Los temas secundarios son mencionados en el contexto como actividades o categorías de sitios a los que se debe tener acceso para llevar a cabo ciertas tareas en relación con la gestión de incidentes. Estos temas no son el enfoque principal del texto, pero se mencionan como parte de la labor que se debe realizar durante una investigación más profunda.'), ('relacionado al documento,¿Qué es la gestion de incidentes?', 'Según el documento, la gestión de incidentes se refiere al proceso formal de reportar, responder y escalar los incidentes de seguridad de la información. Esto implica tener responsabilidades y procedimientos establecidos para manejar los incidentes, notificar los eventos de seguridad de la información y llevar a cabo sesiones de lecciones aprendidas con el personal involucrado en el manejo de incidentes.')]\n"
     ]
    }
   ],
   "source": [
    "question = 'relacionado al documento,¿Qué es la gestion de incidentes?'\n",
    "result, chat_history = ask_with_memory(vector_store, question, chat_history)\n",
    "print(result['answer'])\n",
    "print(chat_history)"
   ]
  },
  {
   "cell_type": "code",
   "execution_count": 30,
   "id": "6bac2a59-a680-450a-b055-aefafa7c5fa0",
   "metadata": {},
   "outputs": [
    {
     "name": "stdout",
     "output_type": "stream",
     "text": [
      "No tengo una función específica, ya que soy un asistente virtual y mi propósito es proporcionar información y asistencia a los usuarios. No tengo la capacidad de desempeñar funciones o responsabilidades como un ser humano.\n",
      "[('Cuantos temas toca el documento?', 'El documento menciona dos temas: almacenamiento físico de documentos en papel y control de versiones.'), ('Entonces solo toca dos temas el documento? ¿no toca otros temas?', 'El documento no menciona explícitamente otros temas relacionados con la organización interna en términos de concientización, educación y capacitación en seguridad de la información.'), ('multiplica los temas que toca por 2', 'El documento toca un total de 36 temas si los multiplicamos por 2.'), ('¿Entonces cuantos temas toca el documento?', 'El documento parece abordar dos temas principales: el espacio físico adecuado para almacenar documentos en papel y los controles de seguridad de la norma ISO 27001:2013.'), ('¿y cuales son los temas secundarios?', 'Los temas secundarios son:\\n\\n1. Antecedentes no penales.\\n2. Estudio socioeconómico.\\n3. Estado de cuenta.\\n4. Número de seguro social.'), ('¿porqué dices que esos son los temas secundarios?', 'Los temas secundarios son mencionados en el contexto como actividades o categorías de sitios a los que se debe tener acceso para llevar a cabo ciertas tareas en relación con la gestión de incidentes. Estos temas no son el enfoque principal del texto, pero se mencionan como parte de la labor que se debe realizar durante una investigación más profunda.'), ('relacionado al documento,¿Qué es la gestion de incidentes?', 'Según el documento, la gestión de incidentes se refiere al proceso formal de reportar, responder y escalar los incidentes de seguridad de la información. Esto implica tener responsabilidades y procedimientos establecidos para manejar los incidentes, notificar los eventos de seguridad de la información y llevar a cabo sesiones de lecciones aprendidas con el personal involucrado en el manejo de incidentes.'), ('¿Cual es tu funcion?', 'No tengo una función específica, ya que soy un asistente virtual y mi propósito es proporcionar información y asistencia a los usuarios. No tengo la capacidad de desempeñar funciones o responsabilidades como un ser humano.')]\n"
     ]
    }
   ],
   "source": [
    "question = '¿Cual es tu funcion?'\n",
    "result, chat_history = ask_with_memory(vector_store, question, chat_history)\n",
    "print(result['answer'])\n",
    "print(chat_history)"
   ]
  },
  {
   "cell_type": "code",
   "execution_count": null,
   "id": "9f39667b-776c-4bbd-b049-2d3c4e65d868",
   "metadata": {},
   "outputs": [],
   "source": []
  }
 ],
 "metadata": {
  "kernelspec": {
   "display_name": "Python 3 (ipykernel)",
   "language": "python",
   "name": "python3"
  },
  "language_info": {
   "codemirror_mode": {
    "name": "ipython",
    "version": 3
   },
   "file_extension": ".py",
   "mimetype": "text/x-python",
   "name": "python",
   "nbconvert_exporter": "python",
   "pygments_lexer": "ipython3",
   "version": "3.11.3"
  }
 },
 "nbformat": 4,
 "nbformat_minor": 5
}
