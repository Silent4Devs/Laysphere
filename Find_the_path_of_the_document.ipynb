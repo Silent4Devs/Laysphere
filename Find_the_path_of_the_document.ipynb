{
 "cells": [
  {
   "cell_type": "markdown",
   "id": "08f6bd52-1ccd-479a-a08d-f356017513f6",
   "metadata": {},
   "source": [
    "### CODIGO DE APOYO ###"
   ]
  },
  {
   "cell_type": "markdown",
   "id": "aa9e04da-3296-4c5e-9350-9e709d16361b",
   "metadata": {},
   "source": [
    "### ENCONTRAR ARCHIVOS EN RUTAS"
   ]
  },
  {
   "cell_type": "code",
   "execution_count": null,
   "id": "3a30aa35-1388-4d74-9752-1989b7223b57",
   "metadata": {},
   "outputs": [
    {
     "name": "stdout",
     "output_type": "stream",
     "text": [
      "El archivo existe.\n"
     ]
    }
   ],
   "source": [
    "import os\n",
    "\n",
    "file_path = '/Users/antonio.gutierrez/Documents/LLM_UDEMY/knowledge/M-SGI-002 Manual de Políticas del SGI_V10.pdf'\n",
    "if os.path.isfile(file_path):\n",
    "    print(\"El archivo existe.\")\n",
    "else:\n",
    "    print(\"El archivo no existe en la ruta especificada.\")"
   ]
  }
 ],
 "metadata": {
  "kernelspec": {
   "display_name": "Python 3 (ipykernel)",
   "language": "python",
   "name": "python3"
  },
  "language_info": {
   "codemirror_mode": {
    "name": "ipython",
    "version": 3
   },
   "file_extension": ".py",
   "mimetype": "text/x-python",
   "name": "python",
   "nbconvert_exporter": "python",
   "pygments_lexer": "ipython3",
   "version": "3.11.3"
  }
 },
 "nbformat": 4,
 "nbformat_minor": 5
}
